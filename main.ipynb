{
 "cells": [
  {
   "cell_type": "code",
   "execution_count": 9,
   "metadata": {},
   "outputs": [],
   "source": [
    "from ml.price.lstm import LSTMModel\n",
    "\n",
    "# モデルのパラメータを設定\n",
    "input_size = 1  # 時系列データの特徴量の数（この場合は1）\n",
    "hidden_size = 50  # LSTMの隠れ状態のサイズ\n",
    "output_size = 128  # 出力する潜在変数の次元数\n",
    "\n",
    "# モデルのインスタンス化\n",
    "model = LSTMModel(input_size, hidden_size, output_size)\n"
   ]
  },
  {
   "cell_type": "code",
   "execution_count": null,
   "metadata": {},
   "outputs": [],
   "source": [
    "from ml.price.transfomer import TransformerModel\n",
    "\n",
    "\n",
    "# モデルのパラメータを設定\n",
    "input_size = 10  # 時系列データの特徴量の数\n",
    "hidden_size = 512  # Transformer内部の隠れ状態のサイズ\n",
    "output_size = 128  # 出力する潜在変数の次元数\n",
    "nhead = 8  # マルチヘッドアテンションのヘッド数\n",
    "num_encoder_layers = 3  # エンコーダレイヤーの数\n",
    "dim_feedforward = 2048  # フィードフォワードネットワークの次元\n",
    "\n",
    "# モデルのインスタンス化\n",
    "transformer_model = TransformerModel(input_size, hidden_size, output_size, nhead, num_encoder_layers, dim_feedforward)\n",
    "\n",
    "# ダミーの時系列データを生成（長さは15から20のランダム）\n",
    "sequence_length = random.randint(15, 20)\n",
    "dummy_time_series = torch.randn(sequence_length, 1, input_size)\n",
    "\n",
    "# Transformerモデルに入力\n",
    "# バッチサイズが1のため、[シーケンス長, バッチサイズ, 特徴量数]に変形\n",
    "dummy_time_series = dummy_time_series.permute(1, 0, 2)\n",
    "latent_vector = transformer_model(dummy_time_series)\n",
    "latent_vector.shape  # 潜在ベクトルの形状を確認"
   ]
  }
 ],
 "metadata": {
  "kernelspec": {
   "display_name": "torch201_py39",
   "language": "python",
   "name": "python3"
  },
  "language_info": {
   "codemirror_mode": {
    "name": "ipython",
    "version": 3
   },
   "file_extension": ".py",
   "mimetype": "text/x-python",
   "name": "python",
   "nbconvert_exporter": "python",
   "pygments_lexer": "ipython3",
   "version": "3.9.18"
  },
  "orig_nbformat": 4
 },
 "nbformat": 4,
 "nbformat_minor": 2
}
